{
 "cells": [
  {
   "cell_type": "code",
   "execution_count": 10,
   "id": "02e49e82",
   "metadata": {},
   "outputs": [],
   "source": [
    "import numpy as np\n",
    "import matplotlib.pyplot as plt\n",
    "import sionna"
   ]
  },
  {
   "cell_type": "code",
   "execution_count": 13,
   "id": "dab8e118",
   "metadata": {},
   "outputs": [],
   "source": [
    "scene = load_scene(sionna.rt.scene.munich, merge_shapes=True) # Merge shapes to speed-up computations\n",
    "\n",
    "# Configure antenna array for all transmitters\n",
    "scene.tx_array = sionna.rt.PlanarArray(num_rows=1,\n",
    "                             num_cols=1,\n",
    "                             vertical_spacing=0.5,\n",
    "                             horizontal_spacing=0.5,\n",
    "                             pattern=\"tr38901\",\n",
    "                             polarization=\"V\")\n",
    "\n",
    "# Configure antenna array for all receivers\n",
    "scene.rx_array = sionna.rt.PlanarArray(num_rows=1,\n",
    "                             num_cols=1,\n",
    "                             vertical_spacing=0.5,\n",
    "                             horizontal_spacing=0.5,\n",
    "                             pattern=\"dipole\",\n",
    "                             polarization=\"cross\")\n",
    "\n",
    "# Create transmitter\n",
    "tx = sionna.rt.Transmitter(name=\"tx\",\n",
    "                 position=[8.5,21,27],\n",
    "                 display_radius=2)\n",
    "\n",
    "# Add transmitter instance to scene\n",
    "scene.add(tx)\n",
    "\n",
    "# Create a receiver\n",
    "rx = sionna.rt.Receiver(name=\"rx\",\n",
    "              position=[45,90,1.5],\n",
    "              display_radius=2)\n",
    "\n",
    "# Add receiver instance to scene\n",
    "scene.add(rx)\n",
    "\n",
    "tx.look_at(rx) # Transmitter points towards receiver"
   ]
  },
  {
   "cell_type": "code",
   "execution_count": 14,
   "id": "f55d45e6",
   "metadata": {},
   "outputs": [],
   "source": [
    "# Instantiate a path solver\n",
    "# The same path solver can be used with multiple scenes\n",
    "p_solver  = sionna.rt.PathSolver()\n",
    "\n",
    "# Compute propagation paths\n",
    "paths = p_solver(scene=scene,\n",
    "                 max_depth=5,\n",
    "                 los=True,\n",
    "                 specular_reflection=True,\n",
    "                 diffuse_reflection=False,\n",
    "                 refraction=True,\n",
    "                 synthetic_array=False,\n",
    "                 seed=41)"
   ]
  },
  {
   "cell_type": "code",
   "execution_count": 15,
   "id": "e826914f",
   "metadata": {},
   "outputs": [
    {
     "data": {
      "application/vnd.jupyter.widget-view+json": {
       "model_id": "c4277de5ba6241c3b58ec192a5aa0189",
       "version_major": 2,
       "version_minor": 0
      },
      "text/plain": [
       "HBox(children=(Renderer(camera=PerspectiveCamera(aspect=1.31, children=(DirectionalLight(intensity=0.25, posit…"
      ]
     },
     "metadata": {},
     "output_type": "display_data"
    }
   ],
   "source": [
    "scene.preview(paths=paths, clip_at=20)"
   ]
  },
  {
   "cell_type": "code",
   "execution_count": null,
   "id": "8a841757",
   "metadata": {},
   "outputs": [],
   "source": []
  }
 ],
 "metadata": {
  "kernelspec": {
   "display_name": "ECE575venv",
   "language": "python",
   "name": "python3"
  },
  "language_info": {
   "codemirror_mode": {
    "name": "ipython",
    "version": 3
   },
   "file_extension": ".py",
   "mimetype": "text/x-python",
   "name": "python",
   "nbconvert_exporter": "python",
   "pygments_lexer": "ipython3",
   "version": "3.12.3"
  }
 },
 "nbformat": 4,
 "nbformat_minor": 5
}
